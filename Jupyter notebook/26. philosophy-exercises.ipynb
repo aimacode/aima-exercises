{
 "cells": [
  {
   "cell_type": "markdown",
   "metadata": {},
   "source": [
    "# 26. Philosphical Foundations"
   ]
  },
  {
   "cell_type": "markdown",
   "metadata": {},
   "source": [
    "**26.1** \\[disability-exercise\\]Go through Turing’s list of alleged\n",
    "“disabilities” of machines, identifying which have been achieved, which\n",
    "are achievable in principle by a program, and which are still\n",
    "problematic because they require conscious mental states.\n",
    "\n",
    "**26.2** Find and analyze an account in the popular media of one or more of the\n",
    "arguments to the effect that AI is impossible.\n",
    "\n",
    "**26.3** Attempt to write definitions of the terms “intelligence,” “thinking,”\n",
    "and “consciousness.” Suggest some possible objections to your\n",
    "definitions.\n",
    "\n",
    "**26.4** Does a refutation of the Chinese room argument necessarily prove that\n",
    "appropriately programmed computers have mental states? Does an\n",
    "acceptance of the argument necessarily mean that computers cannot have\n",
    "mental states?\n",
    "\n",
    "**26.5** \\[brain-prosthesis-exercise\\]In the brain replacement argument, it is\n",
    "important to be able to restore the subject’s brain to normal, such that\n",
    "its external behavior is as it would have been if the operation had not\n",
    "taken place. Can the skeptic reasonably object that this would require\n",
    "updating those neurophysiological properties of the neurons relating to\n",
    "conscious experience, as distinct from those involved in the functional\n",
    "behavior of the neurons?\n",
    "\n",
    "**26.6** Suppose that a Prolog program containing many clauses about the rules of\n",
    "British citizenship is compiled and run on an ordinary computer. Analyze\n",
    "the “brain states” of the computer under wide and narrow content.\n",
    "\n",
    "**26.7** Alan Perlis [@Perlis:1982] wrote, “A year spent in artificial\n",
    "intelligence is enough to make one believe in God”. He also wrote, in a\n",
    "letter to Philip Davis, that one of the central dreams of computer\n",
    "science is that “through the performance of computers and their programs\n",
    "we will remove all doubt that there is only a chemical distinction\n",
    "between the living and nonliving world.” To what extent does the\n",
    "progress made so far in artificial intelligence shed light on these\n",
    "issues? Suppose that at some future date, the AI endeavor has been\n",
    "completely successful; that is, we have build intelligent agents capable\n",
    "of carrying out any human cognitive task at human levels of ability. To\n",
    "what extent would that shed light on these issues?\n",
    "\n",
    "**26.8** Compare the social impact of artificial intelligence in the last fifty\n",
    "years with the social impact of the introduction of electric appliances\n",
    "and the internal combustion engine in the fifty years between 1890 and\n",
    "1940.\n",
    "\n",
    "**26.9** I. J. Good claims that intelligence is the most important quality, and\n",
    "that building ultraintelligent machines will change everything. A\n",
    "sentient cheetah counters that “Actually speed is more important; if we\n",
    "could build ultrafast machines, that would change everything,” and a\n",
    "sentient elephant claims “You’re both wrong; what we need is ultrastrong\n",
    "machines.” What do you think of these arguments?\n",
    "\n",
    "**26.10** Analyze the potential threats from AI technology to society. What\n",
    "threats are most serious, and how might they be combated? How do they\n",
    "compare to the potential benefits?\n",
    "\n",
    "**26.11** How do the potential threats from AI technology compare with those from\n",
    "other computer science technologies, and to bio-, nano-, and nuclear\n",
    "technologies?\n",
    "\n",
    "**26.12** Some critics object that AI is impossible, while others object that it\n",
    "is *too* possible and that ultraintelligent machines pose a\n",
    "threat. Which of these objections do you think is more likely? Would it\n",
    "be a contradiction for someone to hold both positions?\n"
   ]
  },
  {
   "cell_type": "code",
   "execution_count": null,
   "metadata": {},
   "outputs": [],
   "source": []
  }
 ],
 "metadata": {
  "kernelspec": {
   "display_name": "Python 3",
   "language": "python",
   "name": "python3"
  },
  "language_info": {
   "codemirror_mode": {
    "name": "ipython",
    "version": 3
   },
   "file_extension": ".py",
   "mimetype": "text/x-python",
   "name": "python",
   "nbconvert_exporter": "python",
   "pygments_lexer": "ipython3",
   "version": "3.5.2"
  }
 },
 "nbformat": 4,
 "nbformat_minor": 2
}
