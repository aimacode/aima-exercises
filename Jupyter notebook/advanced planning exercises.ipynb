{
 "cells": [
  {
   "cell_type": "markdown",
   "metadata": {},
   "source": [
    "# Advanced Planning Exercises\n",
    "\n"
   ]
  },
  {
   "cell_type": "markdown",
   "metadata": {},
   "source": [
    "## 11.1: Time, Schedules, and Resources (1 exercises, 0 labelled)"
   ]
  },
  {
   "cell_type": "markdown",
   "metadata": {},
   "source": [
    "Q.  The goals we have considered so far all ask the planner to make the world\n",
    "    satisfy the goal at just one time step. Not all goals can be expressed this way: you\n",
    "    do not achieve the goal of suspending a chandelier above the ground by\n",
    "    throwing it in the air. More seriously, you wouldn't want your spacecraft\n",
    "    life-support system to supply oxygen one day but not the next.\n",
    "    A <b>maintenance goal</b> is achieved when the agent's plan causes a condition\n",
    "    to hold continuously from a given state onward.  Describe how to\n",
    "    extend the formalism of this chapter to support maintenance goals.\n",
    "    (id=11.1 section=11.1)"
   ]
  },
  {
   "cell_type": "markdown",
   "metadata": {},
   "source": [
    "## 11.2: Hierarchical Planning (4 exercises, 2 labelled)"
   ]
  },
  {
   "cell_type": "markdown",
   "metadata": {},
   "source": [
    "Q.  <i>Nick Hay Question 1</i> :\n",
    "    You have a number of trucks with which to deliver a set of packages.\n",
    "    Each package starts at some location on a grid map, and has a\n",
    "    destination somewhere else.  Each truck is directly controlled by\n",
    "    moving forward and turning.  Construct a hierarchy of high-level\n",
    "    actions for this problem.  What knowledge about the solution does your\n",
    "    hierarchy encode?\n",
    "    (id=11.2 section=11.2)"
   ]
  },
  {
   "cell_type": "markdown",
   "metadata": {},
   "source": [
    "Q.  <i>[HLA-unique-exercise]</i> :\n",
    "    Suppose that a high-level action has exactly one implementation as a\n",
    "    sequence of primitive actions.  Give an algorithm for computing its\n",
    "    preconditions and effects, given the complete refinement hierarchy and\n",
    "    schemas for the primitive actions.\n",
    "    (id=11.3 section=11.2)"
   ]
  },
  {
   "cell_type": "markdown",
   "metadata": {},
   "source": [
    "Q. Suppose that the optimistic reachable set of a high-level plan is a\n",
    "    superset of the goal set; can anything be concluded about whether the\n",
    "    plan achieves the goal? What if the pessimistic reachable set doesn't\n",
    "    intersect the goal set? Explain.\n",
    "    (id=11.4 section=11.2)"
   ]
  },
  {
   "cell_type": "markdown",
   "metadata": {},
   "source": [
    "Q.  <i>[HLA-progression-exercise]</i>\n",
    "     Write an algorithm that takes an initial state (specified by a set of propositional literals)      and a sequence of HLAs (each defined by preconditions and angelic specifications of          optimistic and pessimistic reachable sets) and computes optimistic and pessimistic            descriptions of the reachable set of the sequence\n",
    "     (id=11.5 section=11.2)\n"
   ]
  },
  {
   "cell_type": "markdown",
   "metadata": {},
   "source": [
    "## 11.3: Planning and Acting in Nondeterministic Domains (10 exercises, 2 labelled)\n",
    ".  "
   ]
  },
  {
   "cell_type": "markdown",
   "metadata": {},
   "source": [
    "Q.  In the following figure : \n",
    "    ![down](https://image.ibb.co/iDdq5n/Screen_Shot_2018_02_18_at_2_14_48_PM.png)\n",
    "    we showed how to\n",
    "    describe actions in a scheduling problem by using separate fields for DURATION, USE, and CONSUME\n",
    "      Now suppose we\n",
    "     wanted to combine scheduling with nondeterministic planning, which\n",
    "     requires nondeterministic and conditional\n",
    "     effects.  Consider each of the three fields and explain if they should\n",
    "     remain separate fields, or if they should become effects of the\n",
    "     action. Give an example for each of the three.\n",
    "     (id=11.0 section=11.3)\n",
    "\n"
   ]
  },
  {
   "cell_type": "markdown",
   "metadata": {},
   "source": [
    "Q.  Some of the operations in standard programming languages can be\n",
    "    modeled as actions that change the state of the world. For example,\n",
    "    the assignment operation changes the contents of a memory location,\n",
    "    and the print operation changes the state of the output stream.  A\n",
    "    program consisting of these operations can also be considered as a\n",
    "    plan, whose goal is given by the specification of the program.\n",
    "    Therefore, planning algorithms can be used to construct programs that\n",
    "    achieve a given specification.\n",
    "    - Write an action schema for the assignment operator (assigning\n",
    "      the value of one variable to another). Remember that the original value will be overwritten!\n",
    "    - Show how object creation can be used by a planner to produce a\n",
    "     plan for exchanging the values of two variables by using a temporary\n",
    "     variable.\n",
    "(id=11.6 section=11.3)\n",
    "    \n"
   ]
  },
  {
   "cell_type": "markdown",
   "metadata": {},
   "source": [
    "Q.  Consider the following argument: In a framework that allows uncertain\n",
    "    initial states, <b>nondeterministic effects</b> are just a notational\n",
    "    convenience, not a source of additional representational power.  For\n",
    "    any action schema <b>a</b>with nondeterministic effect \\(P \\lor Q\\), we could\n",
    "    always replace it with the conditional effects $$ ({R}{P} \\land\n",
    "    {\\lnot R}{Q} )$$, which in turn can be reduced to two regular\n",
    "    actions.  The proposition <b>R</b> stands for a random proposition that is\n",
    "    unknown in the initial state and for which there are no sensing\n",
    "    actions.  Is this argument correct?  Consider separately two cases,\n",
    "    one in which only one instance of action schema <b>a</b> is in the plan,\n",
    "    the other in which more than one instance is.\n",
    "    (id=11.7 section=11.3)"
   ]
  },
  {
   "cell_type": "markdown",
   "metadata": {},
   "source": [
    "Q. <i>[conformant-flip-literal-exercise]</i> : \n",
    " Suppose the <i>Flip</i> action always changes the truth value of variable <i>L</i>. Show how to define its effects by using an action schema with conditional effects. Show that, despite the use of conditional effects, a 1-CNF belief state representation remains in 1-CNF after a <i>Flip</i>\n",
    " (id=11.8 section=11.3.1)"
   ]
  },
  {
   "cell_type": "markdown",
   "metadata": {},
   "source": [
    "Q. In the blocks world we were forced to introduce two action schemas <i>Move</i> and <i>MoveToTable</i> , in order to maintain the <i>Clear</i> predicate properly. Show how conditional effects can be used to represent both of these cases with a single action.\n",
    " (id=11.9 section=11.3.1)"
   ]
  },
  {
   "cell_type": "markdown",
   "metadata": {},
   "source": [
    "Q. <i>[alt-vacuum-exercise]</i>\n",
    " Conditional effects were illustrated for the <i>Suck</i> action in the\n",
    " vacuum world---which square becomes clean depends on which square the\n",
    " robot is in. Can you think of a new set of propositional variables to\n",
    " define states of the vacuum world, such that <i>Suck</i> has an\n",
    " <b>unconditional</b> description? Write out the descriptions of <i>Suck</i>,\n",
    " <i>Left</i>, and <i>Right</i>, using your propositions, and demonstrate that they\n",
    " suffice to describe all possible states of the world.\n",
    " (id=11.10 section=11.3.1)"
   ]
  },
  {
   "cell_type": "markdown",
   "metadata": {},
   "source": [
    "Q. Find a suitably dirty carpet, free of obstacles, and vacuum it.\n",
    " Draw the path taken by the vacuum cleaner as accurately as you can.\n",
    " Explain it, with reference to the forms of planning discussed in this\n",
    " chapter.\n",
    " (id=11.11 section=11.3)"
   ]
  },
  {
   "cell_type": "markdown",
   "metadata": {},
   "source": [
    "Q. Consider the following problem: A patient arrives at the doctor's\n",
    " office with symptoms that could have been caused either by dehydration\n",
    " or by disease <i>D</i> (but not both).  There are two possible actions:\n",
    " <i>Drink</i>, which unconditionally cures dehydration, and\n",
    " <i>Medicate</i>, which cures disease <i>D</i> but has an undesirable side effect\n",
    " if taken when the patient is dehydrated.  Write the problem\n",
    " description, and diagram a sensorless plan that solves the\n",
    " problem, enumerating all relevant possible worlds.\n",
    " (id=11.13 section=11.3.1)"
   ]
  },
  {
   "cell_type": "markdown",
   "metadata": {},
   "source": [
    "Q. To the medication problem in the previous exercise, add a <i>Test</i>\n",
    " action that has the conditional effect <i>CultureGrowth</i> when\n",
    " <i>Disease</i> is true and in any case has the perceptual effect\n",
    " <i>Known(CultureGrowth)</i>.  Diagram a conditional plan that solves the\n",
    " problem and minimizes the use of the <i>Medicate</i> action."
   ]
  }
 ],
 "metadata": {
  "kernelspec": {
   "display_name": "Python 3",
   "language": "python",
   "name": "python3"
  },
  "language_info": {
   "codemirror_mode": {
    "name": "ipython",
    "version": 3
   },
   "file_extension": ".py",
   "mimetype": "text/x-python",
   "name": "python",
   "nbconvert_exporter": "python",
   "pygments_lexer": "ipython3",
   "version": "3.6.4"
  }
 },
 "nbformat": 4,
 "nbformat_minor": 2
}
